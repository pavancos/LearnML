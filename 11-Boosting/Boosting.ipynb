{
 "cells": [
  {
   "cell_type": "code",
   "execution_count": 2,
   "metadata": {},
   "outputs": [],
   "source": [
    "# importing the libraries\n",
    "import pandas as pd \n",
    "import numpy as np \n",
    "from sklearn.model_selection import train_test_split \n",
    "from sklearn.ensemble import AdaBoostClassifier \n",
    "import warnings \n",
    "warnings.filterwarnings(\"ignore\")"
   ]
  },
  {
   "cell_type": "code",
   "execution_count": 3,
   "metadata": {},
   "outputs": [
    {
     "name": "stdout",
     "output_type": "stream",
     "text": [
      "(150, 6)\n"
     ]
    }
   ],
   "source": [
    "# importing the dataset\n",
    "# Reading the dataset from the csv file \n",
    "# separator is a vertical line, as seen in the dataset\n",
    "data = pd.read_csv(\"Iris.csv\") \n",
    "# Printing the shape of the dataset \n",
    "print(data.shape)"
   ]
  },
  {
   "cell_type": "code",
   "execution_count": 4,
   "metadata": {},
   "outputs": [
    {
     "name": "stdout",
     "output_type": "stream",
     "text": [
      "Shape of X is (150, 5) and shape of y is (150,)\n",
      "Number of unique species in dataset are:  3\n",
      "Species\n",
      "Iris-setosa        50\n",
      "Iris-versicolor    50\n",
      "Iris-virginica     50\n",
      "Name: count, dtype: int64\n"
     ]
    }
   ],
   "source": [
    "# Seperating Independent and Dependent Variable\n",
    "#data = data.drop('Id',axis=1) \n",
    "X = data.iloc[:,:-1]\n",
    "y = data.iloc[:,-1] \n",
    "print(\"Shape of X is %s and shape of y is %s\"%(X.shape,y.shape))\n",
    "total_classes = y.nunique() \n",
    "print(\"Number of unique species in dataset are: \",total_classes)\n",
    "distribution = y.value_counts() \n",
    "print(distribution)"
   ]
  },
  {
   "cell_type": "code",
   "execution_count": 5,
   "metadata": {},
   "outputs": [],
   "source": [
    "# Splitting the Dataset into training and testing\n",
    "from sklearn.model_selection import train_test_split\n",
    "# assign test data size 25%\n",
    "X_train, X_val, Y_train, Y_val = train_test_split( X, y, test_size=0.25, random_state=28) "
   ]
  },
  {
   "cell_type": "code",
   "execution_count": 6,
   "metadata": {},
   "outputs": [
    {
     "name": "stdout",
     "output_type": "stream",
     "text": [
      "The accuracy of the model on validation set is 1.0\n"
     ]
    }
   ],
   "source": [
    "# Creating Adaboost Classifier\n",
    "adb = AdaBoostClassifier() \n",
    "adb_model = adb.fit(X_train,Y_train) \n",
    "# Print the Accuracy\n",
    "print(\"The accuracy of the model on validation set is\", adb_model.score(X_val,Y_val))"
   ]
  }
 ],
 "metadata": {
  "kernelspec": {
   "display_name": "Python 3",
   "language": "python",
   "name": "python3"
  },
  "language_info": {
   "codemirror_mode": {
    "name": "ipython",
    "version": 3
   },
   "file_extension": ".py",
   "mimetype": "text/x-python",
   "name": "python",
   "nbconvert_exporter": "python",
   "pygments_lexer": "ipython3",
   "version": "3.12.9"
  }
 },
 "nbformat": 4,
 "nbformat_minor": 2
}
