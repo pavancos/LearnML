{
 "cells": [
  {
   "cell_type": "code",
   "execution_count": 1,
   "metadata": {},
   "outputs": [],
   "source": [
    "import numpy as np"
   ]
  },
  {
   "cell_type": "code",
   "execution_count": 2,
   "metadata": {},
   "outputs": [],
   "source": [
    "def sigmoid(x):\n",
    "    return 1 / (1 + np.exp(-x))"
   ]
  },
  {
   "cell_type": "code",
   "execution_count": 3,
   "metadata": {},
   "outputs": [],
   "source": [
    "def sigmoid_derivative(x):\n",
    "    return x * (1 - x)"
   ]
  },
  {
   "cell_type": "code",
   "execution_count": 4,
   "metadata": {},
   "outputs": [],
   "source": [
    "input_data = np.array(input(\"Enter input data separated by commas: \").split(','), dtype=float)"
   ]
  },
  {
   "cell_type": "code",
   "execution_count": 5,
   "metadata": {},
   "outputs": [],
   "source": [
    "n_hidden_layers = int(input(\"Enter number of hidden layers: \"))"
   ]
  },
  {
   "cell_type": "code",
   "execution_count": 6,
   "metadata": {},
   "outputs": [],
   "source": [
    "n_output_neurons = int(input(\"Enter number of output neurons: \"))"
   ]
  },
  {
   "cell_type": "code",
   "execution_count": 7,
   "metadata": {},
   "outputs": [],
   "source": [
    "bias_values = []\n",
    "for i in range(n_hidden_layers+1):\n",
    "    bias_values.append(np.array(input(f\"Enter bias values for layer {i+1} separated by commas: \").split(','), dtype=float))\n"
   ]
  },
  {
   "cell_type": "code",
   "execution_count": 8,
   "metadata": {},
   "outputs": [],
   "source": [
    "input_layer_size = input_data.shape[0]\n",
    "hidden_layer_sizes = []\n",
    "weights = []"
   ]
  },
  {
   "cell_type": "code",
   "execution_count": 9,
   "metadata": {},
   "outputs": [],
   "source": [
    "for i in range(n_hidden_layers):\n",
    "    hidden_layer_sizes.append(int(input(f\"Enter number of neurons in hidden layer {i+1}: \")))\n",
    "    if i == 0:\n",
    "        weights.append(np.array(input(f\"Enter weights for input layer to hidden layer {i+1} separated by   commas: \").split(','), dtype=float).reshape(input_layer_size,hidden_layer_sizes[i]))\n",
    "    else:\n",
    "        weights.append(np.array(input(f\"Enter weights for hidden layer {i} to hidden layer {i+1} separated by commas: \").split(','), dtype=float).reshape(hidden_layer_sizes[i-1], hidden_layer_sizes[i]))\n",
    "weights.append(np.array(input(f\"Enter weights for hidden layer {n_hidden_layers} to output layer separated by commas: \").split(','), dtype=float).reshape(hidden_layer_sizes[-1], n_output_neurons))\n"
   ]
  },
  {
   "cell_type": "code",
   "execution_count": 10,
   "metadata": {},
   "outputs": [],
   "source": [
    "learning_rate = 0.1\n",
    "num_iterations = 1000"
   ]
  },
  {
   "cell_type": "code",
   "execution_count": 13,
   "metadata": {},
   "outputs": [],
   "source": [
    "target = np.array(input(f\"Enter target output separated by commas: \").split(','), dtype=float)"
   ]
  },
  {
   "cell_type": "code",
   "execution_count": 14,
   "metadata": {},
   "outputs": [
    {
     "name": "stdout",
     "output_type": "stream",
     "text": [
      "Final output: [0.10763711 0.90755421]\n",
      "Target output: [0.001 0.99 ]\n",
      "Layer 1 weights: [[0.15696317 0.20660587]\n",
      " [0.38926331 0.43211732]]\n",
      "Layer 2 weights: [[-2.32285856  1.36055338]\n",
      " [-2.22822304  1.46231891]]\n",
      "Layer 1 biases: [0.35]\n",
      "Layer 2 biases: [0.6]\n"
     ]
    }
   ],
   "source": [
    "# Train the neural network\n",
    "for i in range(num_iterations):\n",
    " # Feed forward Network\n",
    "    hidden_layers = [input_data]\n",
    "    for j in range(len(hidden_layer_sizes)):\n",
    "        hidden_layer = sigmoid(np.dot(hidden_layers[j], weights[j]) + bias_values[j])\n",
    "        hidden_layers.append(hidden_layer)\n",
    "    output = sigmoid(np.dot(hidden_layers[-1], weights[-1]) + bias_values[-1])\n",
    "    # Backpropagation\n",
    "    error = output - target\n",
    "    delta = error * sigmoid_derivative(output)\n",
    "    deltas = [delta]\n",
    "    for j in range(len(hidden_layer_sizes)-1, -1, -1):\n",
    "        delta = np.dot(deltas[-1], weights[j+1].T) *  sigmoid_derivative(hidden_layers[j+1])\n",
    "        deltas.append(delta)\n",
    "    deltas.reverse()\n",
    "    # Update weights and biases\n",
    "    for j in range(len(hidden_layer_sizes)+1):\n",
    "        if j == 0:\n",
    "            layer_input = input_data\n",
    "        else:\n",
    "            layer_input = hidden_layers[j]\n",
    "        dtran = np.transpose(deltas[j].reshape(-1,1))\n",
    "        x = np.dot(layer_input.reshape(-1,1), dtran)\n",
    "        #print(x.shape,weights[j].shape)\n",
    "        weights[j] -= learning_rate * x\n",
    "# Print final output and weights\n",
    "print(f\"Final output: {output}\")\n",
    "print(f\"Target output: {target}\")\n",
    "for i in range(len(weights)):\n",
    "    print(f\"Layer {i+1} weights: {weights[i]}\")\n",
    "for i in range(len(bias_values)):\n",
    "    print(f\"Layer {i+1} biases: {bias_values[i]}\")"
   ]
  }
 ],
 "metadata": {
  "kernelspec": {
   "display_name": "base",
   "language": "python",
   "name": "python3"
  },
  "language_info": {
   "codemirror_mode": {
    "name": "ipython",
    "version": 3
   },
   "file_extension": ".py",
   "mimetype": "text/x-python",
   "name": "python",
   "nbconvert_exporter": "python",
   "pygments_lexer": "ipython3",
   "version": "3.11.7"
  }
 },
 "nbformat": 4,
 "nbformat_minor": 2
}
