{
 "cells": [
  {
   "cell_type": "code",
   "execution_count": 71,
   "id": "e3b04420-e9c6-40ee-ba55-b25dbef55548",
   "metadata": {},
   "outputs": [
    {
     "name": "stdout",
     "output_type": "stream",
     "text": [
      "Hello\tHi\tWorld\n",
      " $$$$"
     ]
    }
   ],
   "source": [
    "## Python Printing Statements\n",
    "print(\"Hello\",\"Hi\",\"World\",sep=\"\\t\",end=\"\\n $$$$\");"
   ]
  },
  {
   "cell_type": "code",
   "execution_count": 73,
   "id": "823bd171-fe43-4fcd-ba7a-70ba3e1724a3",
   "metadata": {},
   "outputs": [
    {
     "name": "stdout",
     "output_type": "stream",
     "text": [
      "a is less than 5\n"
     ]
    }
   ],
   "source": [
    "## Python Indentation\n",
    "a=4;\n",
    "if 5>=a:\n",
    "    print(\"a is less than 5\");"
   ]
  },
  {
   "cell_type": "code",
   "execution_count": 75,
   "id": "3699655f-4811-467f-ad4a-a77980038032",
   "metadata": {},
   "outputs": [
    {
     "name": "stdout",
     "output_type": "stream",
     "text": [
      "10 3.14 Hello\n"
     ]
    }
   ],
   "source": [
    "## Program1: Assignment\n",
    "intVar = 10;\n",
    "floatVar = 3.14\n",
    "stringVar = \"Hello\"\n",
    "print(intVar,floatVar,stringVar);"
   ]
  },
  {
   "cell_type": "code",
   "execution_count": 77,
   "id": "2d5df3c3-a64b-4f5d-81c5-7e77cc68ddb5",
   "metadata": {},
   "outputs": [
    {
     "name": "stdout",
     "output_type": "stream",
     "text": [
      "5 5 5\n"
     ]
    }
   ],
   "source": [
    "## Program2: Assignment to multiple vars\n",
    "a=b=c=5;\n",
    "print(a,b,c);"
   ]
  },
  {
   "cell_type": "code",
   "execution_count": 87,
   "id": "1eba4eea-8495-4c63-a48b-824a7a0fbb27",
   "metadata": {},
   "outputs": [
    {
     "name": "stdin",
     "output_type": "stream",
     "text": [
      "Enter number : 18\n"
     ]
    },
    {
     "name": "stdout",
     "output_type": "stream",
     "text": [
      "18\n"
     ]
    },
    {
     "name": "stdin",
     "output_type": "stream",
     "text": [
      "Enter the  floating point Number: 99.89\n"
     ]
    },
    {
     "name": "stdout",
     "output_type": "stream",
     "text": [
      "99.89\n"
     ]
    },
    {
     "name": "stdin",
     "output_type": "stream",
     "text": [
      "Enter name :  pavan\n"
     ]
    },
    {
     "name": "stdout",
     "output_type": "stream",
     "text": [
      "pavan\n"
     ]
    }
   ],
   "source": [
    "## User Input\n",
    "num = int(input (\"Enter number :\")) \n",
    "print(num) \n",
    "num1 = float(input(\"Enter the  floating point Number:\")) \n",
    "print(num1)\n",
    "name1 = input(\"Enter name : \") \n",
    "print(name1)"
   ]
  },
  {
   "cell_type": "code",
   "execution_count": 79,
   "id": "6d53931a-df0c-4407-8a06-3d76d96bba7d",
   "metadata": {},
   "outputs": [
    {
     "name": "stdout",
     "output_type": "stream",
     "text": [
      "type of 5 <class 'int'>\n",
      "type of 99.89 <class 'float'>\n",
      "type of HeyHello <class 'str'>\n"
     ]
    }
   ],
   "source": [
    "## Numeric\n",
    "a=5;\n",
    "print(\"type of\",a,type(a));\n",
    "b=99.89;\n",
    "print(\"type of\",b,type(b));\n",
    "c=\"HeyHello\";\n",
    "\n",
    "print(\"type of\",c,type(c));"
   ]
  },
  {
   "cell_type": "code",
   "execution_count": 81,
   "id": "32d4da1e-5180-4308-baea-061ac06dbe73",
   "metadata": {},
   "outputs": [
    {
     "name": "stdout",
     "output_type": "stream",
     "text": [
      "IamPavan\n",
      "a\n",
      "am\n",
      "amPavan\n",
      "IamPavanIamPavanIamPavanIamPavan\n",
      "IamPavan Kumar\n"
     ]
    }
   ],
   "source": [
    "## Sequence Type\n",
    "\n",
    "str=\"IamPavan\";\n",
    "print(str);\n",
    "print(str[1]);\n",
    "print(str[1:3]);\n",
    "print(str[1:]);\n",
    "print(str*4);\n",
    "print(str+\" Kumar\");"
   ]
  },
  {
   "cell_type": "code",
   "execution_count": 59,
   "id": "97882e5a-c3de-4cc2-9a2b-e830c06c9943",
   "metadata": {},
   "outputs": [
    {
     "name": "stdout",
     "output_type": "stream",
     "text": [
      "['Pavan', 'Kumar', 'Chennupati']\n",
      "['Kumar']\n",
      "['Ajay', 'Kumar', 'Chennupati']\n",
      "['Ajay', 'Kumar', 'Chennupati', 'Pavan']\n",
      "['Kumar', 'Chennupati', 'Pavan']\n",
      "['Kumar', 'Chennupati', 'Pavan', 1, 2, 3]\n"
     ]
    }
   ],
   "source": [
    "## List type\n",
    "\n",
    "listA=[\n",
    "    'Pavan',\n",
    "    \"Kumar\",\n",
    "    \"Chennupati\"\n",
    "]\n",
    "### Element Access\n",
    "print(listA);\n",
    "### Range of Indices\n",
    "print(listA[1:2]);\n",
    "### Change the Value\n",
    "listA[0]=\"Ajay\";\n",
    "print(listA);\n",
    "### Adding Items\n",
    "listA.append(\"Pavan\");\n",
    "print(listA);\n",
    "### Remove Items from the List\n",
    "listA.remove(\"Ajay\");\n",
    "print(listA);\n",
    "### Joining two Lists\n",
    "listB=[1,2,3];\n",
    "listC=listA+listB;\n",
    "print(listC)"
   ]
  },
  {
   "cell_type": "code",
   "execution_count": 97,
   "id": "b6c4bdeb-e27b-44ce-a3e7-611508e7671a",
   "metadata": {},
   "outputs": [
    {
     "name": "stdout",
     "output_type": "stream",
     "text": [
      "('C++', 'Python', 'Javascript')\n",
      "Javascript\n"
     ]
    },
    {
     "ename": "AttributeError",
     "evalue": "'tuple' object has no attribute 'append'",
     "output_type": "error",
     "traceback": [
      "\u001b[1;31m---------------------------------------------------------------------------\u001b[0m",
      "\u001b[1;31mAttributeError\u001b[0m                            Traceback (most recent call last)",
      "Cell \u001b[1;32mIn[97], line 7\u001b[0m\n\u001b[0;32m      5\u001b[0m \u001b[38;5;28mprint\u001b[39m(tup1[\u001b[38;5;241m2\u001b[39m]);\n\u001b[0;32m      6\u001b[0m \u001b[38;5;66;03m### add a item\u001b[39;00m\n\u001b[1;32m----> 7\u001b[0m tup1\u001b[38;5;241m.\u001b[39mappend(\u001b[38;5;124m\"\u001b[39m\u001b[38;5;124mTypescript\u001b[39m\u001b[38;5;124m\"\u001b[39m);\n\u001b[0;32m      8\u001b[0m \u001b[38;5;28mprint\u001b[39m(tup1)\n",
      "\u001b[1;31mAttributeError\u001b[0m: 'tuple' object has no attribute 'append'"
     ]
    }
   ],
   "source": [
    "## Tuple\n",
    "tup1=(\"C++\",\"Python\",\"Javascript\")\n",
    "print(tup1);\n",
    "### print first element\n",
    "print(tup1[2]);\n",
    "### add a item\n",
    "tup1.append(\"Typescript\");\n",
    "print(tup1);"
   ]
  },
  {
   "cell_type": "code",
   "execution_count": 117,
   "id": "fdcf4d3f-bda9-4e31-925a-83cc61ffc44a",
   "metadata": {},
   "outputs": [
    {
     "name": "stdout",
     "output_type": "stream",
     "text": [
      "{'Name': 'Pavan Kumar Chennupati', 'Age': 19, 'Branch': 'CSE', 'Skills': ['C++', 'Python', 'Javascript']}\n",
      "<class 'dict'>\n",
      "{}\n",
      "Name : Pavan Kumar Chennupati\n",
      "Age : 19\n",
      "Branch : CSE\n",
      "Skills : ['C++', 'Python', 'Javascript']\n",
      "{'Maths': 98, 'Science': 89}\n"
     ]
    }
   ],
   "source": [
    "## Dictionary\n",
    "student={\n",
    "    \"Name\":\"Pavan Kumar Chennupati\",\n",
    "    \"Age\":19,\n",
    "    \"Branch\":\"CSE\",\n",
    "    \"Skills\":[\"C++\",\"Python\",\"Javascript\"]\n",
    "};\n",
    "print(student);\n",
    "print(type(student));\n",
    "### Empty Dictionary\n",
    "emptyDict={};\n",
    "print(emptyDict);\n",
    "\n",
    "### Using For Loop\n",
    "for det in student:\n",
    "    print(det,\":\",student[det]);\n",
    "### Using dict\n",
    "marks=dict({\"Maths\":98,\"Science\":89});\n",
    "print(marks);"
   ]
  },
  {
   "cell_type": "code",
   "execution_count": 129,
   "id": "276ecff3-f50f-49de-b088-4df20e4df8cc",
   "metadata": {},
   "outputs": [
    {
     "name": "stdout",
     "output_type": "stream",
     "text": [
      "Sum of array 23\n",
      "Length of array 4\n",
      "Absolute 99\n",
      "Rounded 90\n",
      "Log value 4.48863636973214\n"
     ]
    }
   ],
   "source": [
    "## Built-in Functions\n",
    "print(\"Sum of array\",sum([2,9,8,4]));\n",
    "print(\"Length of array\",len([2,9,8,4]));\n",
    "print(\"Absolute\",abs(-99));\n",
    "print(\"Rounded\",round(89.95959));\n",
    "\n",
    "import math as mt;\n",
    "print('Log value',mt.log(89));"
   ]
  },
  {
   "cell_type": "code",
   "execution_count": 131,
   "id": "b913e136-2e42-434d-b5bc-6e7afc933dee",
   "metadata": {},
   "outputs": [
    {
     "name": "stdout",
     "output_type": "stream",
     "text": [
      "Area of Rectangle 126\n"
     ]
    }
   ],
   "source": [
    "## Functions\n",
    "def area(length, breadth):\n",
    "    return length*breadth;\n",
    "print(\"Area of Rectangle\",area(7,18));"
   ]
  },
  {
   "cell_type": "code",
   "execution_count": 166,
   "id": "fb5a438f-fd76-40aa-9cc2-2ed277f81994",
   "metadata": {},
   "outputs": [
    {
     "name": "stdout",
     "output_type": "stream",
     "text": [
      "[1 2 3 4]\n",
      "\n",
      "[9 9 9 9]\n",
      "[10 11 12 13]\n",
      "\n",
      "[6 7 8 9]\n",
      "\n",
      "[[10 11 12 13]\n",
      " [14 15 16 17]]\n",
      "\n",
      "[[ 6  7  8  9]\n",
      " [10 11 12 13]]\n",
      "\n",
      "[[1. 1. 1.]\n",
      " [1. 1. 1.]\n",
      " [1. 1. 1.]]\n"
     ]
    }
   ],
   "source": [
    "# numpy\n",
    "import numpy as np;\n",
    "\n",
    "a=np.array([1,2,3,4]);\n",
    "b=np.array([9,9,9,9]);\n",
    "\n",
    "print(a);\n",
    "print()\n",
    "print(b);\n",
    "\n",
    "print(a+b);\n",
    "print()\n",
    "print(a+5);\n",
    "print()\n",
    "\n",
    "### Program 1\n",
    "aTwoD=np.array([[1,2,3,4],[5,6,7,8]]);\n",
    "bTwoD=np.array([[9,9,9,9],[9,9,9,9]]);\n",
    "cTwoD=np.array([1,2,1,2]);\n",
    "\n",
    "print(aTwoD+bTwoD);\n",
    "print()\n",
    "print(aTwoD+5);\n",
    "print()\n",
    "\n",
    "### Program 2\n",
    "M=np.ones((3,3))\n",
    "print(M);"
   ]
  },
  {
   "cell_type": "code",
   "execution_count": 178,
   "id": "337de7ab-8802-42dc-9da2-ba7db7037e14",
   "metadata": {},
   "outputs": [
    {
     "name": "stdout",
     "output_type": "stream",
     "text": [
      "second row\n",
      " [5 6 7 8] \n",
      "\n",
      "second col\n",
      " [2 6] \n",
      "\n"
     ]
    }
   ],
   "source": [
    "import numpy as np;\n",
    "a=np.array([[1,2,3,4],[5,6,7,8]]);\n",
    "print(\"second row\\n\",a[1,:],\"\\n\");\n",
    "print(\"second col\\n\",a[:,1],\"\\n\");"
   ]
  },
  {
   "cell_type": "code",
   "execution_count": 192,
   "id": "d77f509e-8b29-4807-9e10-3454edb214a2",
   "metadata": {},
   "outputs": [
    {
     "name": "stdout",
     "output_type": "stream",
     "text": [
      "Matrix Shape:  (3, 4)\n",
      "Number of Elements:  12\n",
      "Number of Dimensions:  2\n",
      "Average of Matrix:  6.0\n",
      "Maximum Number:  9\n",
      "Column with Minimum Numbers:  [1 5 9]\n",
      "Diagonal of Matrix:  [1 6 9]\n"
     ]
    }
   ],
   "source": [
    "## Matrix Properties\n",
    "import numpy as np;\n",
    "a=np.array([[1,2,3,4],[5,6,7,8],[9,9,9,9]]);\n",
    "print(\"Matrix Shape: \",a.shape);\n",
    "print(\"Number of Elements: \",a.size);\n",
    "print(\"Number of Dimensions: \",a.ndim);\n",
    "print(\"Average of Matrix: \",np.mean(a));\n",
    "print(\"Maximum Number: \",np.max(a));\n",
    "print(\"Column with Minimum Numbers: \",np.min(a,axis=1));\n",
    "print(\"Diagonal of Matrix: \",a.diagonal());"
   ]
  },
  {
   "cell_type": "code",
   "execution_count": 200,
   "id": "707ea80d-9414-4fa3-a24d-11fc0e11f6e1",
   "metadata": {},
   "outputs": [
    {
     "name": "stdout",
     "output_type": "stream",
     "text": [
      "Flattend Matrix\n",
      " [1 2 3 4 5 6 7 8 9 9 9 9]\n",
      "Reshaped Matrix\n",
      " [[1 2 3]\n",
      " [4 5 6]\n",
      " [7 8 9]\n",
      " [9 9 9]]\n",
      "Transposed Matrix\n",
      " [[1 5 9]\n",
      " [2 6 9]\n",
      " [3 7 9]\n",
      " [4 8 9]]\n"
     ]
    }
   ],
   "source": [
    "## Matrix Operations\n",
    "print(\"Flattend Matrix\\n\",a.flatten())\n",
    "print(\"Reshaped Matrix\\n\",a.reshape(4,3))\n",
    "print(\"Transposed Matrix\\n\",a.T)"
   ]
  },
  {
   "cell_type": "code",
   "execution_count": 202,
   "id": "61823fc7-f8af-4e32-b40d-5383b327420f",
   "metadata": {},
   "outputs": [
    {
     "name": "stdout",
     "output_type": "stream",
     "text": [
      "Matrix Addition\n",
      " [[10 11 12 13]\n",
      " [14 15 16 17]]\n",
      "Scalar Multiplication\n",
      " [[ 9 18 27 36]\n",
      " [45 54 63 72]]\n"
     ]
    }
   ],
   "source": [
    "## Matrix Multiplication\n",
    "\n",
    "a=np.array([[1,2,3,4],[5,6,7,8]]);\n",
    "b=np.array([[9,9,9,9],[9,9,9,9]]);\n",
    "\n",
    "print(\"Matrix Addition\\n\",np.add(a,b));\n",
    "print(\"Scalar Multiplication\\n\",np.multiply(a,b));"
   ]
  }
 ],
 "metadata": {
  "kernelspec": {
   "display_name": "Python 3 (ipykernel)",
   "language": "python",
   "name": "python3"
  },
  "language_info": {
   "codemirror_mode": {
    "name": "ipython",
    "version": 3
   },
   "file_extension": ".py",
   "mimetype": "text/x-python",
   "name": "python",
   "nbconvert_exporter": "python",
   "pygments_lexer": "ipython3",
   "version": "3.11.7"
  }
 },
 "nbformat": 4,
 "nbformat_minor": 5
}
