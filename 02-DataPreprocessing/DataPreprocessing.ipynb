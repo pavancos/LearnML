{
 "cells": [
  {
   "cell_type": "markdown",
   "id": "5aca11dc-1b83-4cae-ab34-eb58329c1242",
   "metadata": {},
   "source": [
    "# Importing Libraries"
   ]
  },
  {
   "cell_type": "code",
   "execution_count": 64,
   "id": "4f198a3f-fc2d-4d98-822d-64b717caa736",
   "metadata": {},
   "outputs": [],
   "source": [
    "import numpy as np;\n",
    "import matplotlib.pyplot as plt;\n",
    "import pandas as pd;"
   ]
  },
  {
   "cell_type": "markdown",
   "id": "10b2dec0-de7d-4889-944d-0edc85f77f9b",
   "metadata": {},
   "source": [
    "# Importing Dataset"
   ]
  },
  {
   "cell_type": "code",
   "execution_count": 66,
   "id": "f0e2f122-e0ea-4ccb-9245-0384d0f01c56",
   "metadata": {},
   "outputs": [],
   "source": [
    "dataset = pd.read_csv('./Preprocessing.csv');\n",
    "# print(dataset);\n",
    "\n",
    "X = dataset.iloc[:, : -1].values;\n",
    "Y = dataset.iloc[:, 3].values;"
   ]
  },
  {
   "cell_type": "code",
   "execution_count": 67,
   "id": "dc9b5de5-d164-4cea-9ea5-445a470e23df",
   "metadata": {},
   "outputs": [
    {
     "name": "stdout",
     "output_type": "stream",
     "text": [
      "[['France' 44.0 72000.0]\n",
      " ['Spain' 27.0 48000.0]\n",
      " ['Germany' 30.0 54000.0]\n",
      " ['Spain' 38.0 61000.0]\n",
      " ['Germany' 40.0 nan]\n",
      " ['France' 35.0 58000.0]\n",
      " ['Spain' nan 52000.0]\n",
      " ['France' 48.0 79000.0]\n",
      " ['Germany' 50.0 83000.0]\n",
      " ['France' 37.0 67000.0]]\n"
     ]
    }
   ],
   "source": [
    "print(X)"
   ]
  },
  {
   "cell_type": "code",
   "execution_count": 68,
   "id": "cc983b20-9550-4028-be78-0a4153c6076d",
   "metadata": {},
   "outputs": [
    {
     "name": "stdout",
     "output_type": "stream",
     "text": [
      "['No' 'Yes' 'No' 'No' 'Yes' 'Yes' 'No' 'Yes' 'No' 'Yes']\n"
     ]
    }
   ],
   "source": [
    "print(Y)"
   ]
  },
  {
   "cell_type": "markdown",
   "id": "58c2555e-9636-4e8d-872a-a36305b76254",
   "metadata": {},
   "source": [
    "# Handling Missing Values (NaN)"
   ]
  },
  {
   "cell_type": "code",
   "execution_count": 70,
   "id": "e5e135e9-673f-49e8-a5d6-a1efab1200cf",
   "metadata": {},
   "outputs": [],
   "source": [
    "from sklearn.impute import SimpleImputer;\n",
    "imputer = SimpleImputer(missing_values=np.nan, strategy='mean');\n",
    "imputer.fit(X[:,1:3]);\n",
    "X[:, 1:3] = imputer.transform(X[:, 1:3]);"
   ]
  },
  {
   "cell_type": "code",
   "execution_count": 71,
   "id": "6bd4e0d2-fc9c-4a2b-9503-5a964f57d8a9",
   "metadata": {},
   "outputs": [
    {
     "name": "stdout",
     "output_type": "stream",
     "text": [
      "[['France' 44.0 72000.0]\n",
      " ['Spain' 27.0 48000.0]\n",
      " ['Germany' 30.0 54000.0]\n",
      " ['Spain' 38.0 61000.0]\n",
      " ['Germany' 40.0 63777.77777777778]\n",
      " ['France' 35.0 58000.0]\n",
      " ['Spain' 38.77777777777778 52000.0]\n",
      " ['France' 48.0 79000.0]\n",
      " ['Germany' 50.0 83000.0]\n",
      " ['France' 37.0 67000.0]]\n"
     ]
    }
   ],
   "source": [
    "print(X);"
   ]
  },
  {
   "cell_type": "markdown",
   "id": "39c4dfea-6e82-4f2e-a02b-413d2d386c1e",
   "metadata": {},
   "source": [
    "# Encoding Categorical Data"
   ]
  },
  {
   "cell_type": "markdown",
   "id": "b871465b-6cfe-4d11-9adc-91ebb9ee3fa0",
   "metadata": {},
   "source": [
    "## Encoding Independent Variable"
   ]
  },
  {
   "cell_type": "code",
   "execution_count": 74,
   "id": "f263f219-abcc-4dfb-8b17-4246aa715b38",
   "metadata": {},
   "outputs": [],
   "source": [
    "from sklearn.compose import ColumnTransformer;\n",
    "from sklearn.preprocessing import OneHotEncoder;\n",
    "ct = ColumnTransformer(transformers=[\n",
    "    ('encoder', OneHotEncoder(), [0])\n",
    "], remainder='passthrough');\n",
    "X = np.array(ct.fit_transform(X));"
   ]
  },
  {
   "cell_type": "code",
   "execution_count": 75,
   "id": "3ad57cae-dd78-4783-b2b8-a9bb795c3273",
   "metadata": {},
   "outputs": [
    {
     "name": "stdout",
     "output_type": "stream",
     "text": [
      "[[1.0 0.0 0.0 44.0 72000.0]\n",
      " [0.0 0.0 1.0 27.0 48000.0]\n",
      " [0.0 1.0 0.0 30.0 54000.0]\n",
      " [0.0 0.0 1.0 38.0 61000.0]\n",
      " [0.0 1.0 0.0 40.0 63777.77777777778]\n",
      " [1.0 0.0 0.0 35.0 58000.0]\n",
      " [0.0 0.0 1.0 38.77777777777778 52000.0]\n",
      " [1.0 0.0 0.0 48.0 79000.0]\n",
      " [0.0 1.0 0.0 50.0 83000.0]\n",
      " [1.0 0.0 0.0 37.0 67000.0]]\n"
     ]
    }
   ],
   "source": [
    "print(X);"
   ]
  },
  {
   "cell_type": "markdown",
   "id": "b7ea73c3-7c97-49eb-a2f8-b0153b8c5dad",
   "metadata": {},
   "source": [
    "## Encoding Dependent Variable"
   ]
  },
  {
   "cell_type": "code",
   "execution_count": 91,
   "id": "14f59a49-2ebc-43c6-ab6d-dde9cf8ad61f",
   "metadata": {},
   "outputs": [],
   "source": [
    "from sklearn.preprocessing import LabelEncoder\n",
    "le=LabelEncoder();\n",
    "Y=le.fit_transform(Y);"
   ]
  },
  {
   "cell_type": "code",
   "execution_count": 93,
   "id": "7c821d37-29c5-48f1-8c22-568c5c0f59aa",
   "metadata": {},
   "outputs": [
    {
     "name": "stdout",
     "output_type": "stream",
     "text": [
      "[0 1 0 0 1 1 0 1 0 1]\n"
     ]
    }
   ],
   "source": [
    "print(Y)"
   ]
  },
  {
   "cell_type": "markdown",
   "id": "05211fd8-8571-4838-ad48-2b62607cdd39",
   "metadata": {},
   "source": [
    "# Splitting the Dataset into Training Set and Testing Set"
   ]
  },
  {
   "cell_type": "code",
   "execution_count": 95,
   "id": "7352be8b-204e-4647-9988-a4f46d104697",
   "metadata": {},
   "outputs": [],
   "source": [
    "from sklearn.model_selection import train_test_split;\n",
    "X_train, X_test, Y_train, Y_test = train_test_split(X, Y, test_size=0.2, random_state=1);"
   ]
  },
  {
   "cell_type": "code",
   "execution_count": 97,
   "id": "ec1363e5-7e84-443a-9870-263316252f13",
   "metadata": {},
   "outputs": [
    {
     "name": "stdout",
     "output_type": "stream",
     "text": [
      "X_train\n",
      "[[0.0 0.0 1.0 38.77777777777778 52000.0]\n",
      " [0.0 1.0 0.0 40.0 63777.77777777778]\n",
      " [1.0 0.0 0.0 44.0 72000.0]\n",
      " [0.0 0.0 1.0 38.0 61000.0]\n",
      " [0.0 0.0 1.0 27.0 48000.0]\n",
      " [1.0 0.0 0.0 48.0 79000.0]\n",
      " [0.0 1.0 0.0 50.0 83000.0]\n",
      " [1.0 0.0 0.0 35.0 58000.0]]\n",
      "\n"
     ]
    }
   ],
   "source": [
    "print(\"X_train\");\n",
    "print(X_train);\n",
    "print()"
   ]
  },
  {
   "cell_type": "code",
   "execution_count": 99,
   "id": "fd508268-7a31-4c09-9135-d51ccbf3655f",
   "metadata": {},
   "outputs": [
    {
     "name": "stdout",
     "output_type": "stream",
     "text": [
      "X_test\n",
      "[[0.0 1.0 0.0 30.0 54000.0]\n",
      " [1.0 0.0 0.0 37.0 67000.0]]\n",
      "\n"
     ]
    }
   ],
   "source": [
    "print(\"X_test\");\n",
    "print(X_test);\n",
    "print()"
   ]
  },
  {
   "cell_type": "code",
   "execution_count": 101,
   "id": "4236fcf4-b1ee-4bac-a49d-8e9054d2761c",
   "metadata": {},
   "outputs": [
    {
     "name": "stdout",
     "output_type": "stream",
     "text": [
      "Y_train\n",
      "[0 1 0 0 1 1 0 1]\n",
      "\n"
     ]
    }
   ],
   "source": [
    "print(\"Y_train\");\n",
    "print(Y_train);\n",
    "print()"
   ]
  },
  {
   "cell_type": "code",
   "execution_count": 103,
   "id": "83802c6c-3f02-4b88-a26c-9b3ce660d803",
   "metadata": {},
   "outputs": [
    {
     "name": "stdout",
     "output_type": "stream",
     "text": [
      "Y_test\n",
      "[0 1]\n",
      "\n"
     ]
    }
   ],
   "source": [
    "print(\"Y_test\");\n",
    "print(Y_test);\n",
    "print()"
   ]
  },
  {
   "cell_type": "markdown",
   "id": "9359e85a-09f0-4502-91df-36728c1e6c27",
   "metadata": {},
   "source": [
    "# Feature Scaling"
   ]
  },
  {
   "cell_type": "code",
   "execution_count": 112,
   "id": "9d1f564b-3a94-4305-b2ee-eb6efe080db1",
   "metadata": {},
   "outputs": [],
   "source": [
    "from sklearn.preprocessing import StandardScaler;\n",
    "sc = StandardScaler();\n",
    "X_train[:, 3:]=sc.fit_transform(X_train[:,3:])\n",
    "X_test[:, 3:]=sc.transform(X_test[:,3:])"
   ]
  },
  {
   "cell_type": "code",
   "execution_count": 114,
   "id": "1432d35d-3d71-4e6e-9731-bc2fe07b0999",
   "metadata": {},
   "outputs": [
    {
     "name": "stdout",
     "output_type": "stream",
     "text": [
      "[[0.0 0.0 1.0 -0.19159184384578554 -1.0781259408412427]\n",
      " [0.0 1.0 0.0 -0.014117293757057846 -0.07013167641635404]\n",
      " [1.0 0.0 0.0 0.5667085065333239 0.6335624327104546]\n",
      " [0.0 0.0 1.0 -0.3045301939022487 -0.307866172742979]\n",
      " [0.0 0.0 1.0 -1.901801144700799 -1.4204636155515822]\n",
      " [1.0 0.0 0.0 1.1475343068237056 1.2326533634535488]\n",
      " [0.0 1.0 0.0 1.4379472069688966 1.5749910381638883]\n",
      " [1.0 0.0 0.0 -0.7401495441200352 -0.5646194287757336]]\n"
     ]
    }
   ],
   "source": [
    "print(X_train);"
   ]
  },
  {
   "cell_type": "code",
   "execution_count": 116,
   "id": "94d197da-9507-4c99-b8bd-d3d665537135",
   "metadata": {},
   "outputs": [
    {
     "name": "stdout",
     "output_type": "stream",
     "text": [
      "[[0.0 1.0 0.0 30.0 54000.0]\n",
      " [1.0 0.0 0.0 37.0 67000.0]]\n"
     ]
    }
   ],
   "source": [
    "print(X_test);"
   ]
  }
 ],
 "metadata": {
  "kernelspec": {
   "display_name": "Python 3 (ipykernel)",
   "language": "python",
   "name": "python3"
  },
  "language_info": {
   "codemirror_mode": {
    "name": "ipython",
    "version": 3
   },
   "file_extension": ".py",
   "mimetype": "text/x-python",
   "name": "python",
   "nbconvert_exporter": "python",
   "pygments_lexer": "ipython3",
   "version": "3.11.7"
  }
 },
 "nbformat": 4,
 "nbformat_minor": 5
}
